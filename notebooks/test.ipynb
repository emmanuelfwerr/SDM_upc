{
 "cells": [
  {
   "attachments": {},
   "cell_type": "markdown",
   "metadata": {},
   "source": [
    "# SDM - Neo4j Testing"
   ]
  },
  {
   "cell_type": "code",
   "execution_count": 2,
   "metadata": {},
   "outputs": [],
   "source": [
    "from neo4j import GraphDatabase\n",
    "#from ..src.neo4j_conn import Neo4jConnection\n"
   ]
  },
  {
   "cell_type": "code",
   "execution_count": 9,
   "metadata": {},
   "outputs": [
    {
     "name": "stdout",
     "output_type": "stream",
     "text": [
      "None\n"
     ]
    }
   ],
   "source": [
    "import os\n",
    "print(os.getenv('NEO4J_URI'))"
   ]
  },
  {
   "attachments": {},
   "cell_type": "markdown",
   "metadata": {},
   "source": [
    "### Neo4j Connectivity Verification"
   ]
  },
  {
   "cell_type": "code",
   "execution_count": 3,
   "metadata": {},
   "outputs": [],
   "source": [
    "# URI examples: \"neo4j://localhost\", \"neo4j+s://xxx.databases.neo4j.io\"\n",
    "URI=\"neo4j://localhost:7687\"\n",
    "AUTH = (\"neo4j\", \"password\")\n",
    "\n",
    "with GraphDatabase.driver(URI, auth=AUTH) as driver:\n",
    "    driver.verify_connectivity()"
   ]
  },
  {
   "attachments": {},
   "cell_type": "markdown",
   "metadata": {},
   "source": [
    "### Custom write transaction"
   ]
  },
  {
   "cell_type": "code",
   "execution_count": null,
   "metadata": {},
   "outputs": [],
   "source": [
    "with GraphDatabase.driver(URI, auth=AUTH) as driver:\n",
    "    with driver.session(database=\"neo4j\") as session:\n",
    "        with "
   ]
  },
  {
   "attachments": {},
   "cell_type": "markdown",
   "metadata": {},
   "source": [
    "### Executing Cypher Queries"
   ]
  },
  {
   "cell_type": "code",
   "execution_count": null,
   "metadata": {},
   "outputs": [],
   "source": [
    "# Sample query from neo4j docs\n",
    "'''def match_person_nodes(tx, age):\n",
    "    result = tx.run(\n",
    "        \"MATCH (p:Person {age: $age}) RETURN p.name AS name\",\n",
    "        age=age)\n",
    "    records = list(result)\n",
    "    summary = result.consume()\n",
    "    return records, summary\n",
    "\n",
    "with driver.session(database=\"neo4j\") as session:\n",
    "    records, summary = session.execute_read(match_person_nodes, age=42)\n",
    "\n",
    "# Summary information\n",
    "print(\"The query `{query}` returned {records_count} records in {time} ms.\".format(\n",
    "    query=summary.query, records_count=len(records),\n",
    "    time=summary.result_available_after,\n",
    "))\n",
    "\n",
    "# Loop through results and do something with them\n",
    "for person in records:\n",
    "    print(person)'''"
   ]
  },
  {
   "cell_type": "code",
   "execution_count": null,
   "metadata": {},
   "outputs": [],
   "source": []
  }
 ],
 "metadata": {
  "kernelspec": {
   "display_name": "sdm_env",
   "language": "python",
   "name": "python3"
  },
  "language_info": {
   "codemirror_mode": {
    "name": "ipython",
    "version": 3
   },
   "file_extension": ".py",
   "mimetype": "text/x-python",
   "name": "python",
   "nbconvert_exporter": "python",
   "pygments_lexer": "ipython3",
   "version": "3.9.16"
  },
  "orig_nbformat": 4,
  "vscode": {
   "interpreter": {
    "hash": "a7d5e5c462b49ec6ce17750abfa23d121e87d9085ca05d14c18a4f7bcdc29cba"
   }
  }
 },
 "nbformat": 4,
 "nbformat_minor": 2
}
