{
 "cells": [
  {
   "attachments": {},
   "cell_type": "markdown",
   "metadata": {},
   "source": [
    "# SDM - Neo4j Testing"
   ]
  },
  {
   "cell_type": "code",
   "execution_count": 2,
   "metadata": {},
   "outputs": [],
   "source": [
    "import os\n",
    "from dotenv import load_dotenv\n",
    "from neo4j import GraphDatabase\n",
    "#from ..src.neo4j_conn import Neo4jConnection\n",
    "\n",
    "# change cwd to project root\n",
    "os.chdir('../')\n",
    "\n",
    "# Load secrets from .env\n",
    "load_dotenv(dotenv_path='./env/.env')\n",
    "\n",
    "# instantiate neo4j credentials\n",
    "URI = os.environ['NEO4J_URI']\n",
    "AUTH = (os.environ['NEO4J_USERNAME'], os.environ['NEO4J_PASSWORD'])\n",
    "DB_NAME = os.environ['DB_NAME']"
   ]
  },
  {
   "cell_type": "code",
   "execution_count": 3,
   "metadata": {},
   "outputs": [
    {
     "data": {
      "text/plain": [
       "[' LOAD CSV WITH HEADERS FROM \"file:///relation_WritenBy.csv\" AS row\\n        MERGE (paper:Paper {ID: row.start})\\n        MERGE (person:Person {ID: row.end})\\n        MERGE (paper)-[:WritenBy]->(person);',\n",
       " 'LOAD CSV WITH HEADERS FROM \"file:///relation_CoauthoredBy.csv\" AS row\\n        MERGE (paper:Paper {ID: row.start})\\n        MERGE (person:Person {ID: row.end})\\n        MERGE (paper)-[:CoauthoredBy]->(person);',\n",
       " 'LOAD CSV WITH HEADERS FROM \"file:///relation_CitedBy.csv\" AS row\\n        MERGE (paper1:Paper {ID: row.start})\\n        MERGE (paper2:Paper {ID: row.end})\\n        MERGE (paper1)-[:CitedBy]->(paper2);',\n",
       " 'LOAD CSV WITH HEADERS FROM \"file:///relation_PublishedOn_edition.csv\" AS row\\n        MERGE (paper:Paper {ID: row.start})\\n        MERGE (edition:Edition {ID: row.end})\\n        MERGE (paper)-[:PublishedOn]->(edition);',\n",
       " 'LOAD CSV WITH HEADERS FROM \"file:///relation_edition_conference.csv\" AS row\\n        MERGE (edition:Edition {ID: row.start})\\n        MERGE (conference:Conference {ID: row.end})\\n        MERGE (edition)-[:PartOf]->(conference);',\n",
       " 'LOAD CSV WITH HEADERS FROM \"file:///relation_HasKeyword.csv\" AS row\\n        MERGE (paper:Paper {ID: row.start})\\n        MERGE (keyword:Keyword {ID: row.end})\\n        MERGE (paper)-[:HasKeyword]->(keyword);',\n",
       " 'LOAD CSV WITH HEADERS FROM \"file:///relation_CorrespondTo.csv\" AS row\\n        MERGE (keyword:Keyword {ID: row.start})\\n        MERGE (topic:Topic {ID: row.end})\\n        MERGE (keyword)-[:CorrespondTo]->(topic);',\n",
       " 'LOAD CSV WITH HEADERS FROM \"file:///relation_PublishedOn_volume.csv\" AS row\\n        MERGE (paper:Paper {ID: row.start})\\n        MERGE (volume:Volume {ID: row.end})\\n        MERGE (paper)-[:PublishedOn]->(volume);',\n",
       " 'LOAD CSV WITH HEADERS FROM \"file:///relation_volume_journals.csv\" AS row\\n        MERGE (volume:Volume {ID: row.start})\\n        MERGE (journal:Journal {ID: row.end})\\n        MERGE (volume)-[:PartOf]->(journal);']"
      ]
     },
     "execution_count": 3,
     "metadata": {},
     "output_type": "execute_result"
    }
   ],
   "source": [
    "from scripts.cypher_queries import cypher_init_nodes, cypher_init_relations\n",
    "\n",
    "cypher_init_relations"
   ]
  },
  {
   "attachments": {},
   "cell_type": "markdown",
   "metadata": {},
   "source": [
    "### Neo4j Connectivity Verification"
   ]
  },
  {
   "cell_type": "code",
   "execution_count": 11,
   "metadata": {},
   "outputs": [
    {
     "name": "stdout",
     "output_type": "stream",
     "text": [
      "Neo4j Driver Connectivity Verified!\n"
     ]
    }
   ],
   "source": [
    "# main() testing\n",
    "with GraphDatabase.driver(URI, auth=AUTH) as driver:\n",
    "    try:\n",
    "        driver.verify_connectivity()\n",
    "        print('Neo4j Driver Connectivity Verified!')\n",
    "    except Exception as e:\n",
    "        print('Neo4j Driver Unavailable!', e)"
   ]
  },
  {
   "attachments": {},
   "cell_type": "markdown",
   "metadata": {},
   "source": [
    "### Custom write transaction"
   ]
  },
  {
   "cell_type": "code",
   "execution_count": null,
   "metadata": {},
   "outputs": [],
   "source": [
    "with GraphDatabase.driver(URI, auth=AUTH) as driver:\n",
    "    with driver.session(database=\"neo4j\") as session:\n",
    "        with "
   ]
  },
  {
   "attachments": {},
   "cell_type": "markdown",
   "metadata": {},
   "source": [
    "### Executing Cypher Queries"
   ]
  },
  {
   "cell_type": "code",
   "execution_count": null,
   "metadata": {},
   "outputs": [],
   "source": [
    "# Sample query from neo4j docs\n",
    "'''def match_person_nodes(tx, age):\n",
    "    result = tx.run(\n",
    "        \"MATCH (p:Person {age: $age}) RETURN p.name AS name\",\n",
    "        age=age)\n",
    "    records = list(result)\n",
    "    summary = result.consume()\n",
    "    return records, summary\n",
    "\n",
    "with driver.session(database=\"neo4j\") as session:\n",
    "    records, summary = session.execute_read(match_person_nodes, age=42)\n",
    "\n",
    "# Summary information\n",
    "print(\"The query `{query}` returned {records_count} records in {time} ms.\".format(\n",
    "    query=summary.query, records_count=len(records),\n",
    "    time=summary.result_available_after,\n",
    "))\n",
    "\n",
    "# Loop through results and do something with them\n",
    "for person in records:\n",
    "    print(person)'''"
   ]
  },
  {
   "attachments": {},
   "cell_type": "markdown",
   "metadata": {},
   "source": [
    "# Synthetic Data Generation"
   ]
  },
  {
   "cell_type": "code",
   "execution_count": 57,
   "metadata": {},
   "outputs": [],
   "source": [
    "import pandas as pd\n",
    "import random\n",
    "\n",
    "authors_df = pd.read_csv('../data/synthetic/authors.csv', delimiter=';')\n",
    "papers_df = pd.read_csv('../data/synthetic/papers.csv', delimiter=';')\n",
    "conferences_df = pd.read_csv('../data/synthetic/conferences.csv', delimiter=';')\n",
    "journals_df = pd.read_csv('../data/synthetic/journals.csv', delimiter=';')\n",
    "\n",
    "# relations (edges)\n",
    "written_by = pd.DataFrame(columns=['paper_id', 'person_id']) # paper -> person\n",
    "coAuthored_by = pd.DataFrame(columns=['paper_id', 'person_id']) # paper -> person\n",
    "reviewed_by = pd.DataFrame(columns=['paper_id', 'person_id']) # paper -> person\n",
    "cited_by = pd.DataFrame(columns=['paper1_id', 'paper2_id']) # paper -> paper\n",
    "published_on = pd.DataFrame(columns=['paper_id', 'edition/volume_id']) # paper -> edition/volume\n",
    "is_keyword = pd.DataFrame(columns=['paper_id', 'keyword_id']) # paper -> keyword\n",
    "topic = pd.DataFrame(columns=['keyword_id', 'topic_id']) # keyword -> topic\n",
    "part_of = pd.DataFrame(columns=['edition/volume_id', 'conference/journal_id']) # edition/volume -> conference/journal\n"
   ]
  },
  {
   "attachments": {},
   "cell_type": "markdown",
   "metadata": {},
   "source": [
    "# Creating Node Relationships"
   ]
  },
  {
   "attachments": {},
   "cell_type": "markdown",
   "metadata": {},
   "source": [
    "## Paper Relationships"
   ]
  },
  {
   "cell_type": "code",
   "execution_count": 201,
   "metadata": {},
   "outputs": [
    {
     "data": {
      "text/html": [
       "<div>\n",
       "<style scoped>\n",
       "    .dataframe tbody tr th:only-of-type {\n",
       "        vertical-align: middle;\n",
       "    }\n",
       "\n",
       "    .dataframe tbody tr th {\n",
       "        vertical-align: top;\n",
       "    }\n",
       "\n",
       "    .dataframe thead th {\n",
       "        text-align: right;\n",
       "    }\n",
       "</style>\n",
       "<table border=\"1\" class=\"dataframe\">\n",
       "  <thead>\n",
       "    <tr style=\"text-align: right;\">\n",
       "      <th></th>\n",
       "      <th>paper_id</th>\n",
       "      <th>author_id</th>\n",
       "      <th>co_author_id</th>\n",
       "      <th>reviewer1_id</th>\n",
       "      <th>reviewer2_id</th>\n",
       "      <th>reviewer3_id</th>\n",
       "    </tr>\n",
       "  </thead>\n",
       "  <tbody>\n",
       "    <tr>\n",
       "      <th>0</th>\n",
       "      <td>1</td>\n",
       "      <td>9742924</td>\n",
       "      <td>9742917</td>\n",
       "      <td>9742915</td>\n",
       "      <td>9742919</td>\n",
       "      <td>9742911</td>\n",
       "    </tr>\n",
       "    <tr>\n",
       "      <th>1</th>\n",
       "      <td>2</td>\n",
       "      <td>9742924</td>\n",
       "      <td>9742916</td>\n",
       "      <td>9742926</td>\n",
       "      <td>9742912</td>\n",
       "      <td>9742914</td>\n",
       "    </tr>\n",
       "    <tr>\n",
       "      <th>2</th>\n",
       "      <td>3</td>\n",
       "      <td>9742918</td>\n",
       "      <td>9742922</td>\n",
       "      <td>9742929</td>\n",
       "      <td>9742926</td>\n",
       "      <td>9742916</td>\n",
       "    </tr>\n",
       "    <tr>\n",
       "      <th>3</th>\n",
       "      <td>4</td>\n",
       "      <td>9742920</td>\n",
       "      <td>9742923</td>\n",
       "      <td>9742921</td>\n",
       "      <td>9742929</td>\n",
       "      <td>9742907</td>\n",
       "    </tr>\n",
       "    <tr>\n",
       "      <th>4</th>\n",
       "      <td>5</td>\n",
       "      <td>9742910</td>\n",
       "      <td>9742928</td>\n",
       "      <td>9742922</td>\n",
       "      <td>9742920</td>\n",
       "      <td>9742924</td>\n",
       "    </tr>\n",
       "    <tr>\n",
       "      <th>...</th>\n",
       "      <td>...</td>\n",
       "      <td>...</td>\n",
       "      <td>...</td>\n",
       "      <td>...</td>\n",
       "      <td>...</td>\n",
       "      <td>...</td>\n",
       "    </tr>\n",
       "    <tr>\n",
       "      <th>64</th>\n",
       "      <td>65</td>\n",
       "      <td>9742917</td>\n",
       "      <td>9742913</td>\n",
       "      <td>9742920</td>\n",
       "      <td>9742925</td>\n",
       "      <td>9742911</td>\n",
       "    </tr>\n",
       "    <tr>\n",
       "      <th>65</th>\n",
       "      <td>66</td>\n",
       "      <td>9742912</td>\n",
       "      <td>9742919</td>\n",
       "      <td>9742915</td>\n",
       "      <td>9742928</td>\n",
       "      <td>9742909</td>\n",
       "    </tr>\n",
       "    <tr>\n",
       "      <th>66</th>\n",
       "      <td>67</td>\n",
       "      <td>9742926</td>\n",
       "      <td>9742929</td>\n",
       "      <td>9742928</td>\n",
       "      <td>9742918</td>\n",
       "      <td>9742909</td>\n",
       "    </tr>\n",
       "    <tr>\n",
       "      <th>67</th>\n",
       "      <td>68</td>\n",
       "      <td>9742928</td>\n",
       "      <td>9742915</td>\n",
       "      <td>9742910</td>\n",
       "      <td>9742922</td>\n",
       "      <td>9742924</td>\n",
       "    </tr>\n",
       "    <tr>\n",
       "      <th>68</th>\n",
       "      <td>69</td>\n",
       "      <td>9742907</td>\n",
       "      <td>9742913</td>\n",
       "      <td>9742920</td>\n",
       "      <td>9742909</td>\n",
       "      <td>9742914</td>\n",
       "    </tr>\n",
       "  </tbody>\n",
       "</table>\n",
       "<p>69 rows × 6 columns</p>\n",
       "</div>"
      ],
      "text/plain": [
       "    paper_id  author_id  co_author_id  reviewer1_id  reviewer2_id  \\\n",
       "0          1    9742924       9742917       9742915       9742919   \n",
       "1          2    9742924       9742916       9742926       9742912   \n",
       "2          3    9742918       9742922       9742929       9742926   \n",
       "3          4    9742920       9742923       9742921       9742929   \n",
       "4          5    9742910       9742928       9742922       9742920   \n",
       "..       ...        ...           ...           ...           ...   \n",
       "64        65    9742917       9742913       9742920       9742925   \n",
       "65        66    9742912       9742919       9742915       9742928   \n",
       "66        67    9742926       9742929       9742928       9742918   \n",
       "67        68    9742928       9742915       9742910       9742922   \n",
       "68        69    9742907       9742913       9742920       9742909   \n",
       "\n",
       "    reviewer3_id  \n",
       "0        9742911  \n",
       "1        9742914  \n",
       "2        9742916  \n",
       "3        9742907  \n",
       "4        9742924  \n",
       "..           ...  \n",
       "64       9742911  \n",
       "65       9742909  \n",
       "66       9742909  \n",
       "67       9742924  \n",
       "68       9742914  \n",
       "\n",
       "[69 rows x 6 columns]"
      ]
     },
     "execution_count": 201,
     "metadata": {},
     "output_type": "execute_result"
    }
   ],
   "source": [
    "# written_by\n",
    "paper_id_list = [paper for paper in papers_df['id']]\n",
    "author_id_list = [authors_df.sample(n=1)['id'].iloc[0] for i in range(len(paper_id_list))]\n",
    "\n",
    "# coAuthored_by\n",
    "co_author_id_list = []\n",
    "for i in range(len(paper_id_list)):\n",
    "    author_sample = authors_df.sample(n=1)['id'].iloc[0]\n",
    "    while author_sample == author_id_list[i]:\n",
    "        author_sample = authors_df.sample(n=1)['id'].iloc[0]\n",
    "\n",
    "    co_author_id_list.append(author_sample)\n",
    "\n",
    "# reviewer1\n",
    "reviewer1_id_list = []\n",
    "for i in range(len(paper_id_list)):\n",
    "    reviewer_sample = authors_df.sample(n=1)['id'].iloc[0]\n",
    "    while reviewer_sample in [author_id_list[i], co_author_id_list[i]]:\n",
    "        reviewer_sample = authors_df.sample(n=1)['id'].iloc[0]\n",
    "\n",
    "    reviewer1_id_list.append(reviewer_sample)\n",
    "\n",
    "# reviewer2\n",
    "reviewer2_id_list = []\n",
    "for i in range(len(paper_id_list)):\n",
    "    reviewer_sample = authors_df.sample(n=1)['id'].iloc[0]\n",
    "    while reviewer_sample in [author_id_list[i], co_author_id_list[i], reviewer1_id_list[i]]:\n",
    "        reviewer_sample = authors_df.sample(n=1)['id'].iloc[0]\n",
    "\n",
    "    reviewer2_id_list.append(reviewer_sample)\n",
    "\n",
    "# reviewer3\n",
    "reviewer3_id_list = []\n",
    "for i in range(len(paper_id_list)):\n",
    "    reviewer_sample = authors_df.sample(n=1)['id'].iloc[0]\n",
    "    while reviewer_sample in [author_id_list[i], co_author_id_list[i], reviewer1_id_list[i], reviewer2_id_list[i]]:\n",
    "        reviewer_sample = authors_df.sample(n=1)['id'].iloc[0]\n",
    "\n",
    "    reviewer3_id_list.append(reviewer_sample)\n",
    "\n",
    "# \n",
    "paper_dict = {\n",
    "    'paper_id':paper_id_list,\n",
    "    'author_id':author_id_list,\n",
    "    'co_author_id':co_author_id_list,\n",
    "    'reviewer1_id':reviewer1_id_list,\n",
    "    'reviewer2_id':reviewer2_id_list,\n",
    "    'reviewer3_id':reviewer3_id_list\n",
    "}\n",
    "\n",
    "paper_relationships = pd.DataFrame(paper_dict)\n",
    "paper_relationships"
   ]
  },
  {
   "attachments": {},
   "cell_type": "markdown",
   "metadata": {},
   "source": [
    "## PublishedBy Relationships\n"
   ]
  },
  {
   "cell_type": "code",
   "execution_count": null,
   "metadata": {},
   "outputs": [],
   "source": []
  },
  {
   "cell_type": "code",
   "execution_count": 191,
   "metadata": {},
   "outputs": [
    {
     "ename": "TypeError",
     "evalue": "'numpy.int64' object is not iterable",
     "output_type": "error",
     "traceback": [
      "\u001b[0;31m---------------------------------------------------------------------------\u001b[0m",
      "\u001b[0;31mTypeError\u001b[0m                                 Traceback (most recent call last)",
      "Cell \u001b[0;32mIn[191], line 3\u001b[0m\n\u001b[1;32m      1\u001b[0m \u001b[39mfor\u001b[39;00m i \u001b[39min\u001b[39;00m \u001b[39mrange\u001b[39m(\u001b[39mlen\u001b[39m(paper_id_list)):\n\u001b[1;32m      2\u001b[0m     author_sample \u001b[39m=\u001b[39m authors_df\u001b[39m.\u001b[39msample(n\u001b[39m=\u001b[39m\u001b[39m1\u001b[39m)[\u001b[39m'\u001b[39m\u001b[39mid\u001b[39m\u001b[39m'\u001b[39m]\u001b[39m.\u001b[39miloc[\u001b[39m0\u001b[39m]\n\u001b[0;32m----> 3\u001b[0m     \u001b[39mfor\u001b[39;00m author \u001b[39min\u001b[39;00m author_id_list[i]:\n\u001b[1;32m      4\u001b[0m         \u001b[39mprint\u001b[39m(author)\n",
      "\u001b[0;31mTypeError\u001b[0m: 'numpy.int64' object is not iterable"
     ]
    }
   ],
   "source": [
    "for i in range(len(paper_id_list)):\n",
    "    author_sample = authors_df.sample(n=1)['id'].iloc[0]\n",
    "    for author in author_id_list[i]:\n",
    "        print(author)"
   ]
  },
  {
   "cell_type": "code",
   "execution_count": 179,
   "metadata": {},
   "outputs": [
    {
     "data": {
      "text/plain": [
       "[9742915, 9742927, 9742920]"
      ]
     },
     "execution_count": 179,
     "metadata": {},
     "output_type": "execute_result"
    }
   ],
   "source": [
    "xxx = [id for id in authors_df.sample(n=3)['id']]\n",
    "xxx"
   ]
  },
  {
   "cell_type": "code",
   "execution_count": 183,
   "metadata": {},
   "outputs": [
    {
     "name": "stdout",
     "output_type": "stream",
     "text": [
      "9742915\n",
      "9742927\n",
      "9742920\n"
     ]
    }
   ],
   "source": [
    "for id in xxx:\n",
    "    print(id)"
   ]
  },
  {
   "cell_type": "code",
   "execution_count": 180,
   "metadata": {},
   "outputs": [
    {
     "data": {
      "text/plain": [
       "9742915"
      ]
     },
     "execution_count": 180,
     "metadata": {},
     "output_type": "execute_result"
    }
   ],
   "source": [
    "xxx[0]"
   ]
  },
  {
   "cell_type": "code",
   "execution_count": 181,
   "metadata": {},
   "outputs": [
    {
     "data": {
      "text/plain": [
       "9742927"
      ]
     },
     "execution_count": 181,
     "metadata": {},
     "output_type": "execute_result"
    }
   ],
   "source": [
    "xxx[1]"
   ]
  },
  {
   "cell_type": "code",
   "execution_count": 182,
   "metadata": {},
   "outputs": [
    {
     "data": {
      "text/plain": [
       "9742920"
      ]
     },
     "execution_count": 182,
     "metadata": {},
     "output_type": "execute_result"
    }
   ],
   "source": [
    "xxx[2]"
   ]
  },
  {
   "cell_type": "code",
   "execution_count": 187,
   "metadata": {},
   "outputs": [
    {
     "data": {
      "text/plain": [
       "9742924"
      ]
     },
     "execution_count": 187,
     "metadata": {},
     "output_type": "execute_result"
    }
   ],
   "source": [
    "authors_df.sample(n=1)['id'].iloc[0]"
   ]
  },
  {
   "cell_type": "code",
   "execution_count": 195,
   "metadata": {},
   "outputs": [
    {
     "data": {
      "text/plain": [
       "9742923"
      ]
     },
     "execution_count": 195,
     "metadata": {},
     "output_type": "execute_result"
    }
   ],
   "source": [
    "author_sample"
   ]
  },
  {
   "cell_type": "code",
   "execution_count": null,
   "metadata": {},
   "outputs": [],
   "source": []
  }
 ],
 "metadata": {
  "kernelspec": {
   "display_name": "venv",
   "language": "python",
   "name": "python3"
  },
  "language_info": {
   "codemirror_mode": {
    "name": "ipython",
    "version": 3
   },
   "file_extension": ".py",
   "mimetype": "text/x-python",
   "name": "python",
   "nbconvert_exporter": "python",
   "pygments_lexer": "ipython3",
   "version": "3.9.15"
  },
  "orig_nbformat": 4,
  "vscode": {
   "interpreter": {
    "hash": "f78ef0389a2af5bc7ad0ea824440caa26cb298535f982be3daeb94f42dc25870"
   }
  }
 },
 "nbformat": 4,
 "nbformat_minor": 2
}
